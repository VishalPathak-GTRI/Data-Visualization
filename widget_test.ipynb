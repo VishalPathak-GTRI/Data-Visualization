{
 "cells": [
  {
   "cell_type": "code",
   "execution_count": null,
   "id": "5e53bc9e-33c2-47cd-b707-1a0c6f73b944",
   "metadata": {},
   "outputs": [],
   "source": []
  },
  {
   "cell_type": "code",
   "execution_count": null,
   "id": "859b1736-2a5a-4924-b5b8-f3e83634d0d5",
   "metadata": {},
   "outputs": [],
   "source": []
  },
  {
   "cell_type": "markdown",
   "id": "c5ce0086-7d17-44bc-a152-f94e948c528a",
   "metadata": {
    "tags": []
   },
   "source": [
    "# __TO DO__: <ins>WIDGET LIST:</ins>\n",
    "1. \n",
    "2. \n",
    "3. \n",
    "4. \n",
    "\n",
    "#### __MARKDOWN REFERENCE GUIDE__\n",
    "- Bold = __string__ or **string**<br> \n",
    "- Italic = _string_ or *string*<br>\n",
    "- Underline = <ins>underline</ins>\n",
    "- Strikethrough = ~~strikethrough~~\n",
    "- Line breaks = (<br>)<br>\n",
    "- Font Colors =  <font color=blue|red|green|pink|yellow> Text </font><br>\n",
    "- Mathematical Symbols = $ mathematical symbols $<br>\n",
    "- Blockquote Text = \n",
    "> blockquote text<br>\n",
    "- Bullets = (-)<br>\n",
    "- Numbered Lists = 1.<br>\n",
    "- Graphics = <img src=\"url.gif\" alt=\"Alt text that describes the graphic\" title=\"Title text\" /><br>\n",
    "- Horizontal Lines = ***<br>\n",
    "- Internal Links = [heading title](%heading-title)<br>\n",
    "- External Links = [link text](http://url)<br>\n",
    "- Code Block = <br>\n",
    "```\n",
    "var add2 = function(number) {\n",
    "  return number + 2;\n",
    "}\n",
    "```<br>"
   ]
  },
  {
   "cell_type": "code",
   "execution_count": 10,
   "id": "3d3282c5-fdb8-4e86-93c4-02194b875487",
   "metadata": {
    "tags": []
   },
   "outputs": [],
   "source": [
    "import ipywidgets as widgets"
   ]
  },
  {
   "cell_type": "code",
   "execution_count": 8,
   "id": "5c636019-952c-4c6f-82b7-af47367614c6",
   "metadata": {},
   "outputs": [
    {
     "data": {
      "application/vnd.jupyter.widget-view+json": {
       "model_id": "c1cba57fa82b4030a0dab9aa8b02e740",
       "version_major": 2,
       "version_minor": 0
      },
      "text/plain": [
       "IntSlider(value=7, continuous_update=False, description='Test:', max=10)"
      ]
     },
     "metadata": {},
     "output_type": "display_data"
    }
   ],
   "source": [
    "# MUST GO THROUGH AND DESCRIBE EACH VALUE WHERE NECESSARY\n",
    "\n",
    "widgets.IntSlider(\n",
    "    value = 7,                    #\n",
    "    min = 0,                      #\n",
    "    max = 10,                     #\n",
    "    step = 1,                     #\n",
    "    description = 'Test:',        #\n",
    "    disabled=False,               #\n",
    "    continuous_update=False,      #\n",
    "    orientation='horizontal',     #\n",
    "    readout=True,                 #\n",
    "    readout_format='d'            #\n",
    ")"
   ]
  },
  {
   "cell_type": "markdown",
   "id": "56fc7634-bd61-4de0-8db4-f5d8e00ce2b1",
   "metadata": {},
   "source": [
    "Can similarly create a FloatSlider using the same arguments, with the method call being ```widgets.FloatSlider()```, and adjusting the *step*, *min*, *max*, and *readout_format*.\n",
    "\n",
    "This is seen below but not run, but can be imported and tested as needed:\n",
    "```python\n",
    "widgets.FloatSlider(\n",
    "    value=7.5,\n",
    "    min=0,\n",
    "    max=10.0,\n",
    "    step=0.1,\n",
    "    description='Test:',\n",
    "    disabled=False,\n",
    "    continuous_update=False,\n",
    "    orientation='horizontal',\n",
    "    readout=True,\n",
    "    readout_format='.1f',\n",
    ")\n",
    "```"
   ]
  },
  {
   "cell_type": "code",
   "execution_count": 11,
   "id": "23884e35-cd96-4e54-bc46-d5ae84d83fc2",
   "metadata": {},
   "outputs": [
    {
     "data": {
      "application/vnd.jupyter.widget-view+json": {
       "model_id": "0f5e9e5676614556b30ea2a03db6db90",
       "version_major": 2,
       "version_minor": 0
      },
      "text/plain": [
       "IntRangeSlider(value=(5, 7), continuous_update=False, description='Test:', max=10)"
      ]
     },
     "metadata": {},
     "output_type": "display_data"
    }
   ],
   "source": [
    "widgets.IntRangeSlider(\n",
    "    value=[5, 7],\n",
    "    min=0,\n",
    "    max=10,\n",
    "    step=1,\n",
    "    description='Test:',\n",
    "    disabled=False,\n",
    "    continuous_update=False,\n",
    "    orientation='horizontal',\n",
    "    readout=True,\n",
    "    readout_format='d',\n",
    ")"
   ]
  },
  {
   "cell_type": "markdown",
   "id": "993c8ac3-3cb9-4250-994b-a820e963b74e",
   "metadata": {},
   "source": [
    "#### __Toggle Button__"
   ]
  },
  {
   "cell_type": "code",
   "execution_count": 24,
   "id": "5fbb53f1-2932-490a-aa78-9e903dbb8eff",
   "metadata": {},
   "outputs": [
    {
     "data": {
      "application/vnd.jupyter.widget-view+json": {
       "model_id": "6b5a1b3790e4437ba05fb9c8eb745ae0",
       "version_major": 2,
       "version_minor": 0
      },
      "text/plain": [
       "ToggleButton(value=False, button_style='success', description='Click me', tooltip='Description')"
      ]
     },
     "metadata": {},
     "output_type": "display_data"
    }
   ],
   "source": [
    "#Toggle Button\n",
    "widgets.ToggleButton(\n",
    "    value=False,\n",
    "    description='Click me',\n",
    "    disabled=False,\n",
    "    \n",
    "    # there's got to be more stuff to put here\n",
    "    button_style='success', # 'success', 'info', 'warning', 'danger' or '' \n",
    "    \n",
    "    tooltip='Description',\n",
    "    \n",
    "    # what else goes here\n",
    "    icon='' # what else goes here\n",
    ")\n"
   ]
  },
  {
   "cell_type": "markdown",
   "id": "d613a408-dd6a-497d-a846-63465381c7b9",
   "metadata": {},
   "source": [
    "#### __Checkbox__"
   ]
  },
  {
   "cell_type": "code",
   "execution_count": 34,
   "id": "1721bd5f-a3d3-456a-a682-6f7ca1cf6d38",
   "metadata": {},
   "outputs": [
    {
     "data": {
      "application/vnd.jupyter.widget-view+json": {
       "model_id": "d7f66cabf4b94622a3c97ce356170d02",
       "version_major": 2,
       "version_minor": 0
      },
      "text/plain": [
       "Checkbox(value=False, description='Check me')"
      ]
     },
     "metadata": {},
     "output_type": "display_data"
    }
   ],
   "source": [
    "widgets.Checkbox(\n",
    "    value=False,\n",
    "    description='Check me',\n",
    "    disabled=False\n",
    ")"
   ]
  },
  {
   "cell_type": "markdown",
   "id": "6718392b-0f9c-4c3e-a763-0fa1e34f9600",
   "metadata": {},
   "source": [
    "#### __Dropdown Selector__"
   ]
  },
  {
   "cell_type": "code",
   "execution_count": 25,
   "id": "a87def46-8819-4273-914f-da21d13d70d4",
   "metadata": {},
   "outputs": [
    {
     "data": {
      "application/vnd.jupyter.widget-view+json": {
       "model_id": "2796451fb5f148f6aefe4b5624214696",
       "version_major": 2,
       "version_minor": 0
      },
      "text/plain": [
       "Dropdown(description='Number:', index=1, options=('1', '2', '3'), value='2')"
      ]
     },
     "metadata": {},
     "output_type": "display_data"
    }
   ],
   "source": [
    "widgets.Dropdown(\n",
    "    options=['1', '2', '3'],\n",
    "    value='2',\n",
    "    description='Number:',\n",
    "    disabled=False,\n",
    ")"
   ]
  },
  {
   "cell_type": "code",
   "execution_count": 26,
   "id": "9955a935-b152-4193-8af3-7494da738e63",
   "metadata": {},
   "outputs": [
    {
     "data": {
      "application/vnd.jupyter.widget-view+json": {
       "model_id": "240d8da80758445ab4084ae4c11ad20b",
       "version_major": 2,
       "version_minor": 0
      },
      "text/plain": [
       "Dropdown(description='Number:', index=1, options=(('One', 1), ('Two', 2), ('Three', 3)), value=2)"
      ]
     },
     "metadata": {},
     "output_type": "display_data"
    }
   ],
   "source": [
    "widgets.Dropdown(\n",
    "    options=[('One', 1), ('Two', 2), ('Three', 3)],\n",
    "    value=2,\n",
    "    description='Number:',\n",
    ")"
   ]
  },
  {
   "cell_type": "markdown",
   "id": "1db0b980-2c18-41f6-8743-6377ad3679cf",
   "metadata": {},
   "source": [
    "#### __RadioButtons__"
   ]
  },
  {
   "cell_type": "code",
   "execution_count": 35,
   "id": "d97b381c-42fe-4986-9db3-7b1d481d7419",
   "metadata": {},
   "outputs": [
    {
     "data": {
      "application/vnd.jupyter.widget-view+json": {
       "model_id": "8a4ff0fa70a94a178c8d3e86ba430ffe",
       "version_major": 2,
       "version_minor": 0
      },
      "text/plain": [
       "RadioButtons(description='Pizza topping: ', options=('pepperoni', 'pineapple', 'anchovies'), value='pepperoni'…"
      ]
     },
     "metadata": {},
     "output_type": "display_data"
    }
   ],
   "source": [
    "widgets.RadioButtons(\n",
    "    options=['pepperoni', 'pineapple', 'anchovies'],\n",
    "#     value='pineapple',\n",
    "    description='Pizza topping: ',\n",
    "    disabled=False\n",
    ")"
   ]
  },
  {
   "cell_type": "markdown",
   "id": "1dd6b897-784c-47a9-8755-18d83b7748f1",
   "metadata": {},
   "source": [
    "#### __SelectionSlider__"
   ]
  },
  {
   "cell_type": "code",
   "execution_count": 36,
   "id": "2bd88431-ca36-47cb-a7d4-ab08b99a0c86",
   "metadata": {},
   "outputs": [
    {
     "data": {
      "application/vnd.jupyter.widget-view+json": {
       "model_id": "5c6555682a2d424bab9aeee6e7ea8388",
       "version_major": 2,
       "version_minor": 0
      },
      "text/plain": [
       "SelectionSlider(continuous_update=False, description='I like my eggs ...', index=1, options=('scrambled', 'sun…"
      ]
     },
     "metadata": {},
     "output_type": "display_data"
    }
   ],
   "source": [
    "# This could be useful for selecting conditional sets\n",
    "widgets.SelectionSlider(\n",
    "    options=['scrambled', 'sunny side up', 'poached', 'over easy'],\n",
    "    value='sunny side up',\n",
    "    description='I like my eggs ...',\n",
    "    disabled=False,\n",
    "    continuous_update=False,\n",
    "    orientation='horizontal',\n",
    "    readout=True\n",
    ")"
   ]
  },
  {
   "cell_type": "markdown",
   "id": "7bfbd373-38cf-49ba-8025-2fb5dd38ec65",
   "metadata": {},
   "source": [
    "#### __HTML Math__"
   ]
  },
  {
   "cell_type": "code",
   "execution_count": 28,
   "id": "0504beae-207e-4db4-a033-7946e6dd5fa9",
   "metadata": {},
   "outputs": [
    {
     "data": {
      "application/vnd.jupyter.widget-view+json": {
       "model_id": "e00da66988b341349209dee41ecade72",
       "version_major": 2,
       "version_minor": 0
      },
      "text/plain": [
       "HTMLMath(value='Some math and <i>HTML</i>: \\\\(x^2\\\\) and $$\\\\frac{x+1}{x-1}$$', description='Some HTML', place…"
      ]
     },
     "metadata": {},
     "output_type": "display_data"
    }
   ],
   "source": [
    "widgets.HTMLMath(\n",
    "    value=r\"Some math and <i>HTML</i>: \\(x^2\\) and $$\\frac{x+1}{x-1}$$\",\n",
    "    placeholder='Some HTML',\n",
    "    description='Some HTML',\n",
    ")"
   ]
  },
  {
   "cell_type": "markdown",
   "id": "afd57292-1c02-4ed0-87e0-cebd31bd6434",
   "metadata": {},
   "source": [
    "#### __Label__"
   ]
  },
  {
   "cell_type": "code",
   "execution_count": null,
   "id": "29637555-a8c2-45f6-83fb-60f92cc5b443",
   "metadata": {},
   "outputs": [],
   "source": [
    "widgets.HBox([widgets.Label(value=\"The $m$ in $E=mc^2$:\"), widgets.FloatSlider()])"
   ]
  },
  {
   "cell_type": "markdown",
   "id": "45409d01-00c1-4232-bc36-652b5f35705d",
   "metadata": {},
   "source": [
    "#### __Play (Animation) Widget__"
   ]
  },
  {
   "cell_type": "code",
   "execution_count": 40,
   "id": "793f25a0-d557-451b-a0ca-8659fef34a1d",
   "metadata": {},
   "outputs": [
    {
     "data": {
      "application/vnd.jupyter.widget-view+json": {
       "model_id": "d84c12b49459403a83d480cf1f7a2734",
       "version_major": 2,
       "version_minor": 0
      },
      "text/plain": [
       "HBox(children=(Play(value=50, description='Press play'), IntSlider(value=0)))"
      ]
     },
     "metadata": {},
     "output_type": "display_data"
    }
   ],
   "source": [
    "# Supposedly used to create an \"animation\" that moves at an in integer step, but can be changed\n",
    "# using the interval. What is this actually doing?\n",
    "\n",
    "play = widgets.Play(\n",
    "    # interval=10,\n",
    "    value=50,\n",
    "    min=0,\n",
    "    max=100,\n",
    "    step=1,\n",
    "    description=\"Press play\",\n",
    "    disabled=False\n",
    ")\n",
    "slider = widgets.IntSlider()\n",
    "widgets.jslink((play, 'value'), (slider, 'value'))\n",
    "widgets.HBox([play, slider])"
   ]
  },
  {
   "cell_type": "markdown",
   "id": "4cf707a6-3690-4c04-9075-090d30f8bc40",
   "metadata": {},
   "source": [
    "#### __Color Picker__"
   ]
  },
  {
   "cell_type": "code",
   "execution_count": 31,
   "id": "bb829586-a8b7-49a9-94f2-455f538a2c67",
   "metadata": {},
   "outputs": [
    {
     "data": {
      "application/vnd.jupyter.widget-view+json": {
       "model_id": "71273648c54f42688efacbc26448f067",
       "version_major": 2,
       "version_minor": 0
      },
      "text/plain": [
       "ColorPicker(value='blue', description='Pick a color')"
      ]
     },
     "metadata": {},
     "output_type": "display_data"
    }
   ],
   "source": [
    "widgets.ColorPicker(\n",
    "    concise=False,\n",
    "    description='Pick a color',\n",
    "    value='blue',\n",
    "    disabled=False\n",
    ")"
   ]
  },
  {
   "cell_type": "markdown",
   "id": "e5af5b39-b2fe-45b4-80d6-9245d18f7a6a",
   "metadata": {},
   "source": [
    "#### __Tabs__"
   ]
  },
  {
   "cell_type": "code",
   "execution_count": 32,
   "id": "03ecb9a3-c21e-4537-8125-a4fb137b5540",
   "metadata": {},
   "outputs": [
    {
     "data": {
      "application/vnd.jupyter.widget-view+json": {
       "model_id": "a449d62016bd466e8a0d5a22a2c3e0bd",
       "version_major": 2,
       "version_minor": 0
      },
      "text/plain": [
       "Tab(children=(Text(value='', description='P0'), Text(value='', description='P1'), Text(value='', description='…"
      ]
     },
     "metadata": {},
     "output_type": "display_data"
    }
   ],
   "source": [
    "tab_contents = ['P0', 'P1', 'P2', 'P3', 'P4']\n",
    "children = [widgets.Text(description=name) for name in tab_contents]\n",
    "tab = widgets.Tab()\n",
    "tab.children = children\n",
    "for i in range(len(children)):\n",
    "    tab.set_title(i, str(i))\n",
    "tab"
   ]
  },
  {
   "cell_type": "markdown",
   "id": "ccf41cf3-60a7-4dfd-b2e3-4da294729ac2",
   "metadata": {},
   "source": [
    "#### __Accordion__"
   ]
  },
  {
   "cell_type": "code",
   "execution_count": 33,
   "id": "1a4bbb77-447d-4552-9168-5fac45bb05de",
   "metadata": {},
   "outputs": [
    {
     "data": {
      "application/vnd.jupyter.widget-view+json": {
       "model_id": "651cb6ba98974cb5ab031f1b55dd7cb6",
       "version_major": 2,
       "version_minor": 0
      },
      "text/plain": [
       "Accordion(children=(IntSlider(value=0), Text(value='')), _titles={'0': 'Slider', '1': 'Text'})"
      ]
     },
     "metadata": {},
     "output_type": "display_data"
    }
   ],
   "source": [
    "accordion = widgets.Accordion(children=[widgets.IntSlider(), widgets.Text()])\n",
    "accordion.set_title(0, 'Slider')\n",
    "accordion.set_title(1, 'Text')\n",
    "accordion"
   ]
  },
  {
   "cell_type": "markdown",
   "id": "603e9c69-ceb2-45a6-81f2-999df61af342",
   "metadata": {},
   "source": [
    "#### __Table Formatting__\n",
    "|Left |Center|Right|\n",
    "|:-----|:----:|----:|\n",
    "|1 |A |C |\n",
    "|2 |B |D |\n",
    "\n"
   ]
  },
  {
   "cell_type": "markdown",
   "id": "962576c3-d8d5-4368-b691-0e26aecb2dd7",
   "metadata": {},
   "source": [
    "#### __Tabs__"
   ]
  },
  {
   "cell_type": "markdown",
   "id": "e99162e9-c3b2-47a2-8758-0e87a14ec321",
   "metadata": {},
   "source": [
    "#### __Tabs__"
   ]
  },
  {
   "cell_type": "code",
   "execution_count": null,
   "id": "406c4f25-5870-43ce-a223-4e2a6b3d12aa",
   "metadata": {},
   "outputs": [],
   "source": []
  }
 ],
 "metadata": {
  "kernelspec": {
   "display_name": "Python 3 (ipykernel)",
   "language": "python",
   "name": "python3"
  },
  "language_info": {
   "codemirror_mode": {
    "name": "ipython",
    "version": 3
   },
   "file_extension": ".py",
   "mimetype": "text/x-python",
   "name": "python",
   "nbconvert_exporter": "python",
   "pygments_lexer": "ipython3",
   "version": "3.9.12"
  }
 },
 "nbformat": 4,
 "nbformat_minor": 5
}
